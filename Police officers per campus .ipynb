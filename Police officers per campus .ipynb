{
 "cells": [
  {
   "cell_type": "code",
   "execution_count": null,
   "metadata": {
    "collapsed": true
   },
   "outputs": [],
   "source": []
  },
  {
   "cell_type": "code",
   "execution_count": null,
   "metadata": {
    "collapsed": false
   },
   "outputs": [],
   "source": [
    "import openpyxl\n",
    "import matplotlib.pyplot as plt\n",
    "import plotly.plotly as py\n",
    "import pandas as pd\n",
    "import numpy as np\n",
    "import seaborn as sns\n",
    "\n",
    "# Open workbook #\n",
    "ucdata = openpyxl.load_workbook('ucdata.xlsx')\n",
    "# Open sheet #\n",
    "sheet1 = ucdata.get_sheet_by_name(\"DATA.txt\")\n",
    "# Vars for population, police staff, university names #\n",
    "pop = []\n",
    "pstaff = []\n",
    "uninames = []\n",
    "width = 5\n",
    "\n",
    "# Get uni names #\n",
    "for c in range(2, 11):\n",
    "    for d in range(1, 2):\n",
    "        uninames.append(sheet1.cell(row=c, column = d).value)\n",
    "##print(uninames)\n",
    "# Get Sworned Staff data #\n",
    "for a in range (2, 11):\n",
    "    for b in range (5, 6):\n",
    "        pstaff.append(sheet1.cell(row =a, column=b).value)\n",
    "# Get Population data of each uni #\n",
    "for i in range(2, 11):\n",
    "    for j in range(4, 5):\n",
    "        #sheet1.cell(row=i,column=j).value\n",
    "        pop.append(sheet1.cell(row =i, column =j).value)\n",
    "        #print(i, j, sheet1.cell(row=i, column=j).value)\n",
    "\n",
    "for z in range(0,9):\n",
    "    plt.annotate(uninames[z], xy=(pstaff[z], pop[z]), xytext=(pstaff[z] + 1, pop[z] - 1000), color = 'blue', fontsize = 15)\n",
    "\n",
    "#plt.annotate('Davis', xy=(48, 64816), xytext=(49, 61817))\n",
    "#print(pstaff[8])       \n",
    "#print(uninames[1], pop[1], pstaff[1])\n",
    "\n",
    "fig1 = plt.bar(pstaff, pop)\n",
    "ax = plt.subplot(111)\n",
    "#subplot(111)\n",
    "#plt.annotate()\n",
    "#Adding Labels\n",
    "plt.xlabel('Sworned Staff', fontsize = 20)\n",
    "plt.ylabel('Total Campus Population', fontsize = 20)\n",
    "plt.title('Sworned Staff per Campus', fontsize = 20)\n",
    "ax.spines[\"top\"].set_visible(False)\n",
    "ax.spines[\"bottom\"].set_visible(False)\n",
    "ax.spines[\"right\"].set_visible(False)\n",
    "ax.spines[\"left\"].set_visible(False)\n",
    "ax.get_xaxis().tick_bottom()\n",
    "ax.get_yaxis().tick_left()\n",
    "ax.set_axis_bgcolor('black')\n",
    "#rects = fig1.patches\n",
    "plt.ylim(5000, 77000)\n",
    "plt.xlim(5, 70)\n",
    "plt.show(fig1)\n",
    "\n",
    "#fig2 = plt.plot(352, 394857, 'bo', color = 'blue')\n",
    "#plt.show(fig2)"
   ]
  },
  {
   "cell_type": "code",
   "execution_count": null,
   "metadata": {
    "collapsed": true
   },
   "outputs": [],
   "source": []
  }
 ],
 "metadata": {
  "kernelspec": {
   "display_name": "Python 2",
   "language": "python",
   "name": "python2"
  },
  "language_info": {
   "codemirror_mode": {
    "name": "ipython",
    "version": 2
   },
   "file_extension": ".py",
   "mimetype": "text/x-python",
   "name": "python",
   "nbconvert_exporter": "python",
   "pygments_lexer": "ipython2",
   "version": "2.7.11"
  }
 },
 "nbformat": 4,
 "nbformat_minor": 0
}
